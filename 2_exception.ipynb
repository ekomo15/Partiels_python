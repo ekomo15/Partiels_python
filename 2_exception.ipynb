{
 "cells": [
  {
   "cell_type": "markdown",
   "id": "d591a803",
   "metadata": {},
   "source": [
    "# 2. Création de fonction comportant des modules de gestions des exceptions (5 points) :"
   ]
  },
  {
   "cell_type": "code",
   "execution_count": null,
   "id": "63542c6d",
   "metadata": {},
   "outputs": [],
   "source": [
    "def factorielle(x):\n",
    "    \n",
    "     \n",
    "   # saisie d'une chaine de caratere\n",
    "    while (type(x) is str ):\n",
    "        try: x = int(x)            #convertir en nombre \n",
    "        except:\n",
    "            x = input('saisis un nombre') #reeessayer\n",
    "    \n",
    "   # saisie d'un nombre complexe \n",
    "    while (type(x) is complex ):\n",
    "        try: x = x.real  #extraire la partie reelle \n",
    "        except:\n",
    "            x = input('saisis un nombre non complexe') #reeessayer\n",
    "            \n",
    "             \n",
    "    # saisie d' un nombre negatif\n",
    "    while (x<0):\n",
    "        try: x = abs(x)    #transformer en positif (car factorielle d'un nombre negatif est impossible)\n",
    "        except:\n",
    "            x = int(input('saisis un nombre positif'))  #reessayer\n",
    "    \n",
    "    \n",
    "    # saisie d'un nombre trop grand\n",
    "    while (x>100000000):\n",
    "        try: x = a/0         #Forcer l'utilisateur à saisir un nombre plus petit (temps de calcul)\n",
    "        except:\n",
    "            x = int(input('saisis un nombre de moins de 7 chiffres')) #reessayer\n",
    "  \n",
    "\n",
    "   # saisie d'un nombre trop petit\n",
    "    while (x<0.00000001):\n",
    "        try: x = x/0         #Forcer l'utilisateur à saisir un nombre plus grand que 0 \n",
    "        except:\n",
    "            x = int(input('saisis un nombre superieur à 0 ')) #reessayer\n",
    "            \n",
    "    result = 1\n",
    "    if a==0:\n",
    "        return 1\n",
    "    else:\n",
    "        for i in range(1,a+1):\n",
    "            result = result*i\n",
    "        return result\n",
    "        \n",
    "   "
   ]
  },
  {
   "cell_type": "code",
   "execution_count": null,
   "id": "51fbffaf",
   "metadata": {},
   "outputs": [],
   "source": [
    "factorielle(12 + 5j)"
   ]
  }
 ],
 "metadata": {
  "kernelspec": {
   "display_name": "Python 3",
   "language": "python",
   "name": "python3"
  },
  "language_info": {
   "codemirror_mode": {
    "name": "ipython",
    "version": 3
   },
   "file_extension": ".py",
   "mimetype": "text/x-python",
   "name": "python",
   "nbconvert_exporter": "python",
   "pygments_lexer": "ipython3",
   "version": "3.8.8"
  }
 },
 "nbformat": 4,
 "nbformat_minor": 5
}
