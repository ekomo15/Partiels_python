{
 "cells": [
  {
   "cell_type": "markdown",
   "id": "cc4c1ddf",
   "metadata": {},
   "source": [
    "# 3. Question Bonus : Implémentation de la formule Pricer d’option avec Python"
   ]
  },
  {
   "cell_type": "code",
   "execution_count": 16,
   "id": "ebbb51d7",
   "metadata": {},
   "outputs": [],
   "source": [
    "def pricer(S,X,T,r,mu):\n",
    "    import math\n",
    "    import scipy.stats\n",
    "    from scipy.stats import norm\n",
    "    d1 = (math.log(S/X) + (r + (mu**2)/2)*T)/(mu*math.sqrt(T))\n",
    "    d2 = (math.log(S/X) + (r - (mu**2)/2)*T)/(mu*math.sqrt(T))\n",
    "    \n",
    "    c = S*norm.cdf(d1) - X*math.exp(-r*T)*norm.cdf(d2)\n",
    "    p = X*math.exp(-r*T)*norm.cdf(-d2) - S*norm.cdf(-d1) \n",
    "    return c,p"
   ]
  },
  {
   "cell_type": "code",
   "execution_count": 17,
   "id": "c663f603",
   "metadata": {},
   "outputs": [
    {
     "data": {
      "text/plain": [
       "(0.0016806578635956346, 5.701447524434897)"
      ]
     },
     "execution_count": 17,
     "metadata": {},
     "output_type": "execute_result"
    }
   ],
   "source": [
    "pricer(15,21,0.04,0.36,0.58)"
   ]
  },
  {
   "cell_type": "code",
   "execution_count": null,
   "id": "3cc41971",
   "metadata": {},
   "outputs": [],
   "source": []
  }
 ],
 "metadata": {
  "kernelspec": {
   "display_name": "Python 3",
   "language": "python",
   "name": "python3"
  },
  "language_info": {
   "codemirror_mode": {
    "name": "ipython",
    "version": 3
   },
   "file_extension": ".py",
   "mimetype": "text/x-python",
   "name": "python",
   "nbconvert_exporter": "python",
   "pygments_lexer": "ipython3",
   "version": "3.8.8"
  }
 },
 "nbformat": 4,
 "nbformat_minor": 5
}
