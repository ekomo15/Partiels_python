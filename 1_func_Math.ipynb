{
 "cells": [
  {
   "cell_type": "markdown",
   "id": "68ab43e8",
   "metadata": {},
   "source": [
    "# 1. Création de fonction mathématique simple en Python (12 points) "
   ]
  },
  {
   "cell_type": "markdown",
   "id": "76284975",
   "metadata": {},
   "source": [
    "### a) Implémenter la fonction polynomiale ci-dessous :"
   ]
  },
  {
   "cell_type": "code",
   "execution_count": 10,
   "id": "7acbf95a",
   "metadata": {},
   "outputs": [],
   "source": [
    "def polygone(x):\n",
    "    return x**3 - 1.5*x**2 - 6*x + 5"
   ]
  },
  {
   "cell_type": "code",
   "execution_count": 11,
   "id": "c9307ca8",
   "metadata": {},
   "outputs": [
    {
     "data": {
      "text/plain": [
       "62.5"
      ]
     },
     "execution_count": 11,
     "metadata": {},
     "output_type": "execute_result"
    }
   ],
   "source": [
    "# test\n",
    "x=5\n",
    "polygone(x)"
   ]
  },
  {
   "cell_type": "markdown",
   "id": "c9aff396",
   "metadata": {},
   "source": [
    "### Implémenter la fonction factorielle (Approche récursive ou classique) :"
   ]
  },
  {
   "cell_type": "code",
   "execution_count": 62,
   "id": "fc9abae4",
   "metadata": {},
   "outputs": [],
   "source": [
    "def factorielle(n):\n",
    "    result = 1\n",
    "    if n==0:\n",
    "        return 1\n",
    "    elif n>=1:\n",
    "        for i in range(1,n+1):\n",
    "            result = result*i\n",
    "        return result"
   ]
  },
  {
   "cell_type": "code",
   "execution_count": 63,
   "id": "df004852",
   "metadata": {},
   "outputs": [
    {
     "data": {
      "text/plain": [
       "120"
      ]
     },
     "execution_count": 63,
     "metadata": {},
     "output_type": "execute_result"
    }
   ],
   "source": [
    "#test\n",
    "n=5\n",
    "factorielle(n)"
   ]
  },
  {
   "cell_type": "markdown",
   "id": "15181af2",
   "metadata": {},
   "source": [
    "### c) Implémenter la suite de Fibonnaci"
   ]
  },
  {
   "cell_type": "code",
   "execution_count": 58,
   "id": "31b3f0a8",
   "metadata": {},
   "outputs": [],
   "source": [
    "def fibonacci(n):\n",
    "    fib = [0,1]\n",
    "    for i in range(2,n):\n",
    "        fib.append(fib[i-1] + fib[i-2] )\n",
    "    return fib"
   ]
  },
  {
   "cell_type": "code",
   "execution_count": 59,
   "id": "32dc1aa5",
   "metadata": {},
   "outputs": [
    {
     "data": {
      "text/plain": [
       "[0, 1, 1, 2, 3, 5]"
      ]
     },
     "execution_count": 59,
     "metadata": {},
     "output_type": "execute_result"
    }
   ],
   "source": [
    "fibonacci(6)"
   ]
  },
  {
   "cell_type": "code",
   "execution_count": 78,
   "id": "4563ff27",
   "metadata": {},
   "outputs": [],
   "source": []
  },
  {
   "cell_type": "code",
   "execution_count": 91,
   "id": "79444f10",
   "metadata": {},
   "outputs": [
    {
     "data": {
      "text/plain": [
       "1445.0"
      ]
     },
     "execution_count": 91,
     "metadata": {},
     "output_type": "execute_result"
    }
   ],
   "source": []
  },
  {
   "cell_type": "markdown",
   "id": "d36c93b6",
   "metadata": {},
   "source": [
    "# 3. Question Bonus : Implémentation de la formule Pricer d’option avec Python\n"
   ]
  },
  {
   "cell_type": "code",
   "execution_count": 93,
   "id": "b9e5b4b1",
   "metadata": {},
   "outputs": [],
   "source": [
    "def pricer(S,X,T,r,mu):\n",
    "    import math\n",
    "    import scipy.stats\n",
    "    from scipy.stats import norm\n",
    "    d1 = math.log(S/X) + (r + (mu**2)/2)*T/(mu*math.sqrt(T))\n",
    "    d2 = math.log(S/X) + (r - (mu**2)/2)*T/(mu*math.sqrt(T))\n",
    "    \n",
    "    c = S*norm.pdf(d1) - X*math.exp(-r*T)*norm.pdf(d2)\n",
    "    p = X*math.exp(-r*T)*norm.pdf(-d2) - S*norm.pdf(-d1) \n",
    "    return c,p"
   ]
  },
  {
   "cell_type": "code",
   "execution_count": null,
   "id": "80c2b060",
   "metadata": {},
   "outputs": [],
   "source": []
  }
 ],
 "metadata": {
  "kernelspec": {
   "display_name": "Python 3",
   "language": "python",
   "name": "python3"
  },
  "language_info": {
   "codemirror_mode": {
    "name": "ipython",
    "version": 3
   },
   "file_extension": ".py",
   "mimetype": "text/x-python",
   "name": "python",
   "nbconvert_exporter": "python",
   "pygments_lexer": "ipython3",
   "version": "3.8.8"
  }
 },
 "nbformat": 4,
 "nbformat_minor": 5
}
